{
 "cells": [
  {
   "cell_type": "markdown",
   "metadata": {
    "collapsed": true,
    "pycharm": {
     "name": "#%% md\n"
    }
   },
   "source": [
    "# Predicting NBA\n",
    "\n",
    "This is a project for predicting the outcome of NBA games.\n",
    "We will be using different Machine Learning for prediction and comparing the results.\n"
   ]
  },
  {
   "cell_type": "markdown",
   "source": [
    "Dataset: https://www.kaggle.com/nathanlauga/nba-games\n",
    "\n",
    "This dataset contains data of every NBA game played from 2014 season to now. For our training set, we can use seasons\n",
    "2015/2016-2018/2019, where we would test our model on 2018/2019 season. The reason, we will not be using later seasons\n",
    "(for now) is that after those seasons Covid-19 hit. After that, the games were postponed, players were in quarantine,\n",
    "no fans, play-offs were played in the bubble and similar noise in the data from real-life events."
   ],
   "metadata": {
    "collapsed": false,
    "pycharm": {
     "name": "#%% md\n"
    }
   }
  },
  {
   "cell_type": "markdown",
   "source": [
    "Article of basic idea:  Albrecht  Zimmermann,  Sruthi  Moorthy,and Zifan Shi. “Predicting college basket-ball match outcomes using machine learn-ing  techniques:  some  results  and  lessonslearned”.\n",
    "\n",
    "Inspired by post: https://towardsdatascience.com/predicting-the-outcome-of-nba-games-with-machine-learning-a810bb768f20\n"
   ],
   "metadata": {
    "collapsed": false,
    "pycharm": {
     "name": "#%% md\n"
    }
   }
  },
  {
   "cell_type": "markdown",
   "source": [
    "First we need to create a function for loading the data. This will be used a few times during implementation."
   ],
   "metadata": {
    "collapsed": false
   }
  },
  {
   "cell_type": "code",
   "execution_count": 8,
   "outputs": [],
   "source": [
    "import numpy as np\n",
    "import pandas as pd\n",
    "from helper_functions import calculate_elo\n",
    "\n",
    "global teams_data\n",
    "global train_set\n",
    "global test_set\n",
    "\n",
    "def load_data(season):\n",
    "\n",
    "    global teams_data\n",
    "    global train_set\n",
    "    global test_set\n",
    "\n",
    "    filename = \"Data/games.csv\"\n",
    "    data = pd.read_csv(filename, parse_dates=[\"GAME_DATE_EST\"])\n",
    "\n",
    "    train_set = data[(data[\"SEASON\"]) < season]\n",
    "    test_set = data[(data[\"SEASON\"]) == season]\n",
    "\n",
    "    train_set = train_set[2004 < (train_set[\"SEASON\"])]\n",
    "\n",
    "    teams_data = pd.read_csv(\"Data/teams.csv\")\n",
    "\n",
    "    train_set = train_set.sort_values(\"GAME_DATE_EST\", inplace=False, ascending=True)\n",
    "    test_set = test_set.sort_values(\"GAME_DATE_EST\", inplace=False, ascending=True)\n",
    "\n",
    "    score_init = [1500 for i in range(0, len(teams_data.index))]\n",
    "    teams_data[\"ELO_RATING\"] = score_init\n",
    "\n",
    "    games_played = list()\n",
    "    pts_scd_played = list()\n",
    "    pts_rcv_played = list()\n",
    "    win_streak = list()\n",
    "    score_init = list()\n",
    "    for i in range(0, len(teams_data.index)):\n",
    "        games_played.append(0)\n",
    "        pts_scd_played.append(0)\n",
    "        pts_rcv_played.append(0)\n",
    "        win_streak.append(0)\n",
    "        score_init.append(1500)\n",
    "\n",
    "    teams_data[\"ELO_RATING\"] = score_init\n",
    "    teams_data[\"GAMES_PLAYED\"] = games_played\n",
    "    teams_data[\"AVG_POINTS_SCD\"] = pts_scd_played\n",
    "    teams_data[\"AVG_POINTS_REC\"] = pts_rcv_played\n",
    "    teams_data[\"WIN_STREAK\"] = win_streak"
   ],
   "metadata": {
    "collapsed": false,
    "pycharm": {
     "name": "#%%\n"
    }
   }
  },
  {
   "cell_type": "markdown",
   "source": [
    "## Establishing baseline\n",
    "First we need to get baseline for the prediction accuracy. First is to randomly pick a winner from two team or\n",
    "next is to predict that home team wins every time. We can try both and pick the best one.\n",
    "\n",
    "\n",
    "### Random"
   ],
   "metadata": {
    "collapsed": false,
    "pycharm": {
     "name": "#%% md\n"
    }
   }
  },
  {
   "cell_type": "code",
   "source": [
    "def random_score():\n",
    "    from random import random\n",
    "\n",
    "    test_out_random = list()\n",
    "\n",
    "    for n,i in test_set.iterrows():\n",
    "        if random() < 0.5:\n",
    "            test_out_random.append(0)\n",
    "        else:\n",
    "            test_out_random.append(1)\n",
    "\n",
    "    random_eval = 0\n",
    "    for i in range(0, len(test_out_random)):\n",
    "        if test_out_random[i] == test_set.iloc[i][\"HOME_TEAM_WINS\"]:\n",
    "            random_eval += 1\n",
    "\n",
    "    return random_eval * 100 / len(test_out_random)"
   ],
   "metadata": {
    "collapsed": false,
    "pycharm": {
     "name": "#%%\n"
    }
   },
   "execution_count": 9,
   "outputs": []
  },
  {
   "cell_type": "markdown",
   "source": [
    "### Home team always wins"
   ],
   "metadata": {
    "collapsed": false,
    "pycharm": {
     "name": "#%% md\n"
    }
   }
  },
  {
   "cell_type": "code",
   "execution_count": 10,
   "outputs": [],
   "source": [
    "def home_score():\n",
    "    home_team_eval = 0\n",
    "    for i in range(0, len(test_set.index)):\n",
    "        if test_set.iloc[i][\"HOME_TEAM_WINS\"] == 1:\n",
    "            home_team_eval += 1\n",
    "\n",
    "    return home_team_eval * 100 / len(test_set.index)"
   ],
   "metadata": {
    "collapsed": false,
    "pycharm": {
     "name": "#%%\n"
    }
   }
  },
  {
   "cell_type": "markdown",
   "source": [
    "Our baseline for our model's accuracy will be the probability that home team always wins (almost 60%).\n",
    "\n",
    "\n",
    "\n",
    "## ELO Rating\n",
    "\n",
    "Until now, we were only looking at win/lose ratio. ELO rating is improved win/lose stat, due to the fact, it takes into\n",
    "consideration history of previous matches from teams, but not in simple 0/1. It's a score, where every team starts at\n",
    "1500 points, after that every team receives or loses points for win or loss. Increase or deduction in points is dependent\n",
    "on different parameters (location of the match and others). This metric is much better representation of the team's\n",
    "strength, than simple win/lose metric."
   ],
   "metadata": {
    "collapsed": false,
    "pycharm": {
     "name": "#%% md\n"
    }
   }
  },
  {
   "cell_type": "code",
   "execution_count": 11,
   "outputs": [],
   "source": [
    "def base_elo_score():\n",
    "\n",
    "    score_init = [1500 for i in range(0, len(teams_data.index))]\n",
    "    teams_data[\"ELO_RATING\"] = score_init\n",
    "\n",
    "    for i in range(0, len(train_set.index)):\n",
    "\n",
    "        if i > 0 and train_set.iloc[i][\"SEASON\"] != train_set.iloc[i - 1][\"SEASON\"]:\n",
    "            for j in range(0, len(teams_data.index)):\n",
    "                teams_data.at[j, \"ELO_RATING\"] = teams_data.at[j, \"ELO_RATING\"] * 0.75 + (0.25*1505)\n",
    "\n",
    "        home_id = train_set.iloc[i][\"TEAM_ID_home\"]\n",
    "        away_id = train_set.iloc[i][\"TEAM_ID_away\"]\n",
    "        win_lose = train_set.iloc[i][\"HOME_TEAM_WINS\"]\n",
    "        home_pts = train_set.iloc[i][\"PTS_home\"]\n",
    "        away_pts = train_set.iloc[i][\"PTS_away\"]\n",
    "        home_team_index = teams_data.index[teams_data[\"TEAM_ID\"] == home_id].tolist()[0]\n",
    "        away_team_index = teams_data.index[teams_data[\"TEAM_ID\"] == away_id].tolist()[0]\n",
    "        home_elo = teams_data.iloc[home_team_index][\"ELO_RATING\"]\n",
    "        away_elo = teams_data.iloc[away_team_index][\"ELO_RATING\"]\n",
    "        teams_data.at[home_team_index, \"ELO_RATING\"] = calculate_elo(home_elo, away_elo, win_lose, abs(home_pts-away_pts), 0)\n",
    "        teams_data.at[away_team_index, \"ELO_RATING\"] = calculate_elo(away_elo, home_elo, 1-win_lose, abs(home_pts-away_pts), 1)\n",
    "\n",
    "    for j in range(0, len(teams_data.index)):\n",
    "                teams_data.at[j, \"ELO_RATING\"] = teams_data.at[j, \"ELO_RATING\"] * 0.75 + (0.25*1505)\n",
    "\n",
    "    prediction_count = 0\n",
    "    for i in range(0, len(test_set.index)):\n",
    "        home_id = test_set.iloc[i][\"TEAM_ID_home\"]\n",
    "        away_id = test_set.iloc[i][\"TEAM_ID_away\"]\n",
    "        home_pts = test_set.iloc[i][\"PTS_home\"]\n",
    "        away_pts = test_set.iloc[i][\"PTS_away\"]\n",
    "        home_team_index = teams_data.index[teams_data[\"TEAM_ID\"] == home_id].tolist()[0]\n",
    "        away_team_index = teams_data.index[teams_data[\"TEAM_ID\"] == away_id].tolist()[0]\n",
    "        home_elo = teams_data.iloc[home_team_index][\"ELO_RATING\"]\n",
    "        away_elo = teams_data.iloc[away_team_index][\"ELO_RATING\"]\n",
    "        win_lose = 0\n",
    "        if home_elo >= away_elo:\n",
    "            win_lose = 1\n",
    "        teams_data.at[home_team_index, \"ELO_RATING\"] = calculate_elo(home_elo, away_elo, win_lose, abs(home_pts-away_pts), 0)\n",
    "        teams_data.at[away_team_index, \"ELO_RATING\"] = calculate_elo(away_elo, home_elo, 1-win_lose, abs(home_pts-away_pts), 1)\n",
    "        if win_lose == test_set.iloc[i][\"HOME_TEAM_WINS\"]:\n",
    "            prediction_count += 1\n",
    "\n",
    "    return prediction_count * 100 / len(test_set.index)"
   ],
   "metadata": {
    "collapsed": false,
    "pycharm": {
     "name": "#%%\n"
    }
   }
  },
  {
   "cell_type": "markdown",
   "source": [
    "As we can see, ELO rating improves the result, and we break the barrier of 60% accuracy. More interesting thing is that we get this result of more than 60% when the predictions are not independent, where an output of one prediction is an input in another through ELO rating. With this in mind, ELO rating is a very good and interesting attribute. Unfortunately, the results are not admissible in our case, where we do not know current data of point scored, so we will be using average points in previous season for the teams. This is a big estimation, which could be improved in the future."
   ],
   "metadata": {
    "collapsed": false
   }
  },
  {
   "cell_type": "markdown",
   "source": [
    "## Preparing data for training\n",
    "\n",
    "We have to prepare data and select feature for training."
   ],
   "metadata": {
    "collapsed": false
   }
  },
  {
   "cell_type": "markdown",
   "source": [],
   "metadata": {
    "collapsed": false
   }
  },
  {
   "cell_type": "code",
   "execution_count": 12,
   "outputs": [],
   "source": [
    "def prepare_train_data(season, num_test):\n",
    "\n",
    "    load_data(season)\n",
    "\n",
    "    train_set_data = pd.DataFrame(columns=[\"ELO_RATING_HOME\", \"ELO_RATING_AWAY\", \"WIN_STREAK_HOME\", \"WIN_STREAK_AWAY\", \"AVG_POINTS_SCD_HOME\", \"AVG_POINTS_REC_HOME\", \"AVG_POINTS_SCD_AWAY\", \"AVG_POINTS_REC_AWAY\", \"HOME_WIN\"])\n",
    "\n",
    "    for i in range(0, len(train_set.index)):\n",
    "\n",
    "        if i > 0 and train_set.iloc[i][\"SEASON\"] != train_set.iloc[i - 1][\"SEASON\"]:\n",
    "            for j in range(0, len(teams_data.index)):\n",
    "                teams_data.at[j, \"ELO_RATING\"] = teams_data.at[j, \"ELO_RATING\"] * 0.75 + (0.25*1505)\n",
    "                teams_data.at[j, \"GAMES_PLAYED\"] = 0\n",
    "                teams_data.at[j, \"AVG_POINTS_SCD\"] = 0\n",
    "                teams_data.at[j, \"AVG_POINTS_REC\"] = 0\n",
    "                teams_data.at[j, \"WIN_STREAK\"] = 0\n",
    "\n",
    "        home_id = train_set.iloc[i][\"TEAM_ID_home\"]\n",
    "        away_id = train_set.iloc[i][\"TEAM_ID_away\"]\n",
    "        win_lose = train_set.iloc[i][\"HOME_TEAM_WINS\"]\n",
    "        home_pts = train_set.iloc[i][\"PTS_home\"]\n",
    "        away_pts = train_set.iloc[i][\"PTS_away\"]\n",
    "\n",
    "        home_team_index = teams_data.index[teams_data[\"TEAM_ID\"] == home_id].tolist()[0]\n",
    "        away_team_index = teams_data.index[teams_data[\"TEAM_ID\"] == away_id].tolist()[0]\n",
    "\n",
    "        home_elo = teams_data.iloc[home_team_index][\"ELO_RATING\"]\n",
    "        away_elo = teams_data.iloc[away_team_index][\"ELO_RATING\"]\n",
    "\n",
    "        win_streak_home = teams_data.iloc[home_team_index][\"WIN_STREAK\"]\n",
    "        win_streak_away = teams_data.iloc[away_team_index][\"WIN_STREAK\"]\n",
    "\n",
    "        avg_points_scd_home = teams_data.iloc[home_team_index][\"AVG_POINTS_SCD\"]\n",
    "        avg_points_scd_away = teams_data.iloc[away_team_index][\"AVG_POINTS_SCD\"]\n",
    "\n",
    "        avg_points_rec_home = teams_data.iloc[home_team_index][\"AVG_POINTS_REC\"]\n",
    "        avg_points_rec_away = teams_data.iloc[away_team_index][\"AVG_POINTS_REC\"]\n",
    "\n",
    "        if num_test == 2 and win_streak_home < 0:\n",
    "            win_streak_home = 0\n",
    "        if num_test == 2 and win_streak_away < 0:\n",
    "            win_streak_away = 0\n",
    "\n",
    "        row = [home_elo, away_elo, win_streak_home,win_streak_away,avg_points_scd_home,avg_points_scd_away,avg_points_rec_home,avg_points_rec_away, win_lose]\n",
    "\n",
    "        train_set_data.loc[len(train_set_data)] = row\n",
    "\n",
    "        home_elo_out = calculate_elo(home_elo, away_elo, win_lose, abs(avg_points_scd_home-avg_points_scd_away), 0)\n",
    "        away_elo_out = calculate_elo(away_elo, home_elo, 1-win_lose, abs(avg_points_scd_home-avg_points_scd_away), 1)\n",
    "\n",
    "        games_played_home = teams_data.iloc[home_team_index][\"GAMES_PLAYED\"]\n",
    "        games_played_away = teams_data.iloc[away_team_index][\"GAMES_PLAYED\"]\n",
    "\n",
    "        teams_data.at[home_team_index, \"AVG_POINTS_SCD\"] = ((games_played_home * avg_points_scd_home) + home_pts) / (games_played_home + 1)\n",
    "        teams_data.at[away_team_index, \"AVG_POINTS_SCD\"] = ((games_played_away * avg_points_scd_away) + away_pts) / (games_played_away + 1)\n",
    "\n",
    "        teams_data.at[home_team_index, \"AVG_POINTS_REC\"] = ((games_played_home * avg_points_rec_home) + away_pts) / (games_played_home + 1)\n",
    "        teams_data.at[away_team_index, \"AVG_POINTS_REC\"] = ((games_played_away * avg_points_rec_away) + home_pts) / (games_played_away + 1)\n",
    "\n",
    "        if win_lose == 1:\n",
    "            if win_streak_home > 0:\n",
    "                teams_data.at[home_team_index, \"WIN_STREAK\"] = win_streak_home + 1\n",
    "            else:\n",
    "                teams_data.at[home_team_index, \"WIN_STREAK\"] = 1\n",
    "            if win_streak_away < 0:\n",
    "                teams_data.at[away_team_index, \"WIN_STREAK\"] = win_streak_away - 1\n",
    "            else:\n",
    "                teams_data.at[away_team_index, \"WIN_STREAK\"] = -1\n",
    "        else:\n",
    "            if win_streak_home < 0:\n",
    "                teams_data.at[home_team_index, \"WIN_STREAK\"] = win_streak_home - 1\n",
    "            else:\n",
    "                teams_data.at[home_team_index, \"WIN_STREAK\"] = -1\n",
    "            if win_streak_away > 0:\n",
    "                teams_data.at[away_team_index, \"WIN_STREAK\"] = win_streak_away + 1\n",
    "            else:\n",
    "                teams_data.at[away_team_index, \"WIN_STREAK\"] = 1\n",
    "\n",
    "        teams_data.at[home_team_index, \"GAMES_PLAYED\"] = games_played_home + 1\n",
    "        teams_data.at[away_team_index, \"GAMES_PLAYED\"] = games_played_away + 1\n",
    "\n",
    "        teams_data.at[home_team_index, \"ELO_RATING\"] = home_elo_out\n",
    "        teams_data.at[away_team_index, \"ELO_RATING\"] = away_elo_out\n",
    "\n",
    "    return train_set_data;"
   ],
   "metadata": {
    "collapsed": false,
    "pycharm": {
     "name": "#%%\n"
    }
   }
  },
  {
   "cell_type": "markdown",
   "source": [
    "Now we are ready to train and predict"
   ],
   "metadata": {
    "collapsed": false
   }
  },
  {
   "cell_type": "markdown",
   "source": [
    "#Training the model and predictions\n",
    "\n",
    "We can now train the model on our training data.\n",
    "\n",
    "When the training is done, we can predict.\n",
    "\n",
    "For prediction, we are using 4 algorithms:\n",
    "- Random Forest (num_test = 1)\n",
    "- Multinomial Naive Bayes (num_test = 2)\n",
    "- Linear Regression (num_test = 3)\n",
    "- K-Nearest Neighbours with n=3 (num_test = 4)"
   ],
   "metadata": {
    "collapsed": false
   }
  },
  {
   "cell_type": "code",
   "execution_count": 17,
   "outputs": [],
   "source": [
    "from sklearn.preprocessing import StandardScaler\n",
    "from sklearn.neighbors import KNeighborsClassifier\n",
    "from sklearn.naive_bayes import MultinomialNB\n",
    "from sklearn.linear_model import LogisticRegression\n",
    "from sklearn.ensemble import RandomForestRegressor\n",
    "from sklearn.pipeline import make_pipeline\n",
    "\n",
    "def predict_season(num_test, season):\n",
    "\n",
    "    train_set_data = prepare_train_data(season, num_test)\n",
    "\n",
    "    X_train = train_set_data.iloc[:, 0:8].values\n",
    "    y_train = train_set_data.iloc[:, 8].values\n",
    "    y_train=y_train.astype('int')\n",
    "\n",
    "    if num_test == 1:\n",
    "        regressor = RandomForestRegressor()\n",
    "    if num_test == 2:\n",
    "        regressor = MultinomialNB()\n",
    "    if num_test == 3:\n",
    "        regressor = make_pipeline(StandardScaler(), LogisticRegression())\n",
    "    if num_test == 4:\n",
    "        regressor = KNeighborsClassifier(n_neighbors=3)\n",
    "\n",
    "    regressor.fit(X_train, y_train)\n",
    "\n",
    "    for j in range(0, len(teams_data.index)):\n",
    "                teams_data.at[j, \"ELO_RATING\"] = teams_data.at[j, \"ELO_RATING\"] * 0.75 + (0.25*1505)\n",
    "                teams_data.at[j, \"GAMES_PLAYED\"] = 0\n",
    "                teams_data.at[j, \"WIN_STREAK\"] = 0\n",
    "\n",
    "    prediction_count = 0\n",
    "    for i in range(0, len(test_set.index)):\n",
    "\n",
    "        home_id = test_set.iloc[i][\"TEAM_ID_home\"]\n",
    "        away_id = test_set.iloc[i][\"TEAM_ID_away\"]\n",
    "\n",
    "        home_team_index = teams_data.index[teams_data[\"TEAM_ID\"] == home_id].tolist()[0]\n",
    "        away_team_index = teams_data.index[teams_data[\"TEAM_ID\"] == away_id].tolist()[0]\n",
    "\n",
    "        home_elo = teams_data.iloc[home_team_index][\"ELO_RATING\"]\n",
    "        away_elo = teams_data.iloc[away_team_index][\"ELO_RATING\"]\n",
    "\n",
    "        win_streak_home = teams_data.iloc[home_team_index][\"WIN_STREAK\"]\n",
    "        win_streak_away = teams_data.iloc[away_team_index][\"WIN_STREAK\"]\n",
    "\n",
    "        if num_test == 2 and win_streak_home < 0:\n",
    "            win_streak_home = 0\n",
    "        if num_test == 2 and win_streak_away < 0:\n",
    "            win_streak_away = 0\n",
    "\n",
    "        avg_points_scd_home = teams_data.iloc[home_team_index][\"AVG_POINTS_SCD\"]\n",
    "        avg_points_scd_away = teams_data.iloc[away_team_index][\"AVG_POINTS_SCD\"]\n",
    "\n",
    "        avg_points_rec_home = teams_data.iloc[home_team_index][\"AVG_POINTS_REC\"]\n",
    "        avg_points_rec_away = teams_data.iloc[away_team_index][\"AVG_POINTS_REC\"]\n",
    "\n",
    "        row = [home_elo, away_elo, win_streak_home,win_streak_away,avg_points_scd_home,avg_points_scd_away,avg_points_rec_home,avg_points_rec_away]\n",
    "\n",
    "        x = np.reshape(row, (1, -1))\n",
    "        y_pred = regressor.predict(x.reshape(1, -1))\n",
    "\n",
    "        win_lose = 0\n",
    "        if y_pred > 0.5:\n",
    "            win_lose = 1\n",
    "\n",
    "        if win_lose == test_set.iloc[i][\"HOME_TEAM_WINS\"]:\n",
    "            prediction_count += 1\n",
    "\n",
    "        home_elo_out = calculate_elo(home_elo, away_elo, win_lose, abs(avg_points_scd_home-avg_points_scd_away), 0)\n",
    "        away_elo_out = calculate_elo(away_elo, home_elo, 1-win_lose, abs(avg_points_scd_home-avg_points_scd_away), 1)\n",
    "\n",
    "        games_played_home = teams_data.iloc[home_team_index][\"GAMES_PLAYED\"]\n",
    "        games_played_away = teams_data.iloc[away_team_index][\"GAMES_PLAYED\"]\n",
    "\n",
    "        if win_lose == 1:\n",
    "            if win_streak_home > 0:\n",
    "                teams_data.at[home_team_index, \"WIN_STREAK\"] = win_streak_home + 1\n",
    "            else:\n",
    "                teams_data.at[home_team_index, \"WIN_STREAK\"] = 1\n",
    "            if win_streak_away < 0:\n",
    "                teams_data.at[away_team_index, \"WIN_STREAK\"] = win_streak_away - 1\n",
    "            else:\n",
    "                teams_data.at[away_team_index, \"WIN_STREAK\"] = -1\n",
    "        else:\n",
    "            if win_streak_home < 0:\n",
    "                teams_data.at[home_team_index, \"WIN_STREAK\"] = win_streak_home - 1\n",
    "            else:\n",
    "                teams_data.at[home_team_index, \"WIN_STREAK\"] = -1\n",
    "            if win_streak_away > 0:\n",
    "                teams_data.at[away_team_index, \"WIN_STREAK\"] = win_streak_away + 1\n",
    "            else:\n",
    "                teams_data.at[away_team_index, \"WIN_STREAK\"] = 1\n",
    "\n",
    "        teams_data.at[home_team_index, \"GAMES_PLAYED\"] = games_played_home + 1\n",
    "        teams_data.at[away_team_index, \"GAMES_PLAYED\"] = games_played_away + 1\n",
    "\n",
    "        teams_data.at[home_team_index, \"ELO_RATING\"] = home_elo_out\n",
    "        teams_data.at[away_team_index, \"ELO_RATING\"] = away_elo_out\n",
    "\n",
    "    return prediction_count * 100 / len(test_set.index)"
   ],
   "metadata": {
    "collapsed": false,
    "pycharm": {
     "name": "#%%\n"
    }
   }
  },
  {
   "cell_type": "markdown",
   "source": [
    "This is The end of the algorithm\n",
    "\n",
    "#Running the code\n",
    "\n",
    "Here we are just running the code and saving data"
   ],
   "metadata": {
    "collapsed": false
   }
  },
  {
   "cell_type": "code",
   "execution_count": 14,
   "outputs": [
    {
     "name": "stdout",
     "output_type": "stream",
     "text": [
      "===============================================================\n",
      "\tRandom: 49.95817550794899\n",
      "\tHome team wins: 59.38928298014298\n",
      "\tHigher ELO: 60.775391600921125\n",
      "\tRandom Forest: 60.46250933564464\n",
      "\tNaive Bayes: 60.51132142040909\n",
      "\tLogistic regression: 62.20291824572364\n",
      "\tK-nearest neighbour: 58.5196233538248\n"
     ]
    }
   ],
   "source": [
    "import csv\n",
    "\n",
    "header = ['Season', 'Random', 'Home team wins', 'Higher ELO', 'Random Forest', 'Naive Bayes', 'Logistic Regression', 'K-nearest neighbours']\n",
    "\n",
    "with open('results.csv', 'w', encoding='UTF8') as f:\n",
    "    writer = csv.writer(f)\n",
    "\n",
    "    writer.writerow(header)\n",
    "\n",
    "    rf = 0\n",
    "    nb = 0\n",
    "    lr = 0\n",
    "    kn = 0\n",
    "\n",
    "    rs = 0\n",
    "    hw = 0\n",
    "    es = 0\n",
    "\n",
    "    counter = 0\n",
    "\n",
    "    for i in range(2006, 2019):\n",
    "\n",
    "        load_data(i)\n",
    "        cur_rs = random_score()\n",
    "        cur_hw = home_score()\n",
    "        cur_es = base_elo_score()\n",
    "\n",
    "        cur_rf = predict_season(1, i)\n",
    "        cur_nb = predict_season(2, i)\n",
    "        cur_lr = predict_season(3, i)\n",
    "        cur_kn = predict_season(4, i)\n",
    "\n",
    "        rs += cur_rs\n",
    "        hw += cur_hw\n",
    "        es += cur_es\n",
    "\n",
    "        rf += cur_rf\n",
    "        nb += cur_nb\n",
    "        lr += cur_lr\n",
    "        kn += cur_kn\n",
    "\n",
    "        counter += 1\n",
    "\n",
    "        row = [i, cur_rs, cur_hw, cur_es, cur_rf, cur_nb, cur_lr, cur_kn]\n",
    "\n",
    "        writer.writerow(row)\n",
    "\n",
    "    print(\"===============================================================\")\n",
    "    print(\"\\tRandom: \" + str(rs/counter))\n",
    "    print(\"\\tHome team wins: \" + str(hw/counter))\n",
    "    print(\"\\tHigher ELO: \" + str(es/counter))\n",
    "    print(\"\\tRandom Forest: \" + str(rf/counter))\n",
    "    print(\"\\tNaive Bayes: \" + str(nb/counter))\n",
    "    print(\"\\tLogistic regression: \" + str(lr/counter))\n",
    "    print(\"\\tK-nearest neighbour: \" + str(kn/counter))"
   ],
   "metadata": {
    "collapsed": false,
    "pycharm": {
     "name": "#%%\n"
    }
   }
  }
 ],
 "metadata": {
  "kernelspec": {
   "name": "python3",
   "language": "python",
   "display_name": "Python 3 (ipykernel)"
  },
  "language_info": {
   "codemirror_mode": {
    "name": "ipython",
    "version": 2
   },
   "file_extension": ".py",
   "mimetype": "text/x-python",
   "name": "python",
   "nbconvert_exporter": "python",
   "pygments_lexer": "ipython2",
   "version": "2.7.6"
  }
 },
 "nbformat": 4,
 "nbformat_minor": 0
}