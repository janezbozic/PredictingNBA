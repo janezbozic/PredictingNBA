{
 "cells": [
  {
   "cell_type": "markdown",
   "metadata": {
    "collapsed": true,
    "pycharm": {
     "name": "#%% md\n"
    }
   },
   "source": [
    "# Predicting NBA\n",
    "\n",
    "This is a project for predicting the outcome of NBA games.\n",
    "We will be using different Machine Learning for prediction and comparing the results.\n"
   ]
  },
  {
   "cell_type": "markdown",
   "source": [
    "Dataset: https://www.kaggle.com/nathanlauga/nba-games\n",
    "\n",
    "This dataset contains data of every NBA game played from 2014 season to now. For our training set, we can use seasons\n",
    "2014/2015-2017/2018, where we would test our model on 2018/2019 season. The reason, we will not be using later seasons\n",
    "(for now) is that after those seasons Covid-19 hit. After that, the games were postponed, players were in quarantine,\n",
    "no fans, play-offs were played in the bubble and similar noise in the data from real-life events."
   ],
   "metadata": {
    "collapsed": false,
    "pycharm": {
     "name": "#%% md\n"
    }
   }
  },
  {
   "cell_type": "markdown",
   "source": [
    "Original post: https://towardsdatascience.com/predicting-the-outcome-of-nba-games-with-machine-learning-a810bb768f20\n"
   ],
   "metadata": {
    "collapsed": false,
    "pycharm": {
     "name": "#%% md\n"
    }
   }
  },
  {
   "cell_type": "code",
   "execution_count": 1,
   "outputs": [],
   "source": [
    "from datetime import datetime\n",
    "import pandas as pd\n",
    "from helper_functions import calculate_elo\n",
    "\n",
    "filename = \"Data/games.csv\"\n",
    "data = pd.read_csv(filename, parse_dates=[\"GAME_DATE_EST\"])\n",
    "\n",
    "test_date = datetime.strptime(\"2018-06-09\", \"%Y-%m-%d\")\n",
    "start_date = datetime.strptime(\"2013-06-30\", \"%Y-%m-%d\")\n",
    "\n",
    "train_set = data[(data[\"GAME_DATE_EST\"] < test_date)]\n",
    "train_set = train_set[(train_set[\"GAME_DATE_EST\"] > start_date)]\n",
    "\n",
    "end_date = datetime.strptime(\"2019-06-14\", \"%Y-%m-%d\")\n",
    "\n",
    "test_set = data[(data[\"GAME_DATE_EST\"] < end_date)]\n",
    "test_set = test_set[(test_set[\"GAME_DATE_EST\"] > test_date)]\n",
    "\n",
    "teams_data = pd.read_csv(\"Data/teams.csv\")"
   ],
   "metadata": {
    "collapsed": false,
    "pycharm": {
     "name": "#%%\n"
    }
   }
  },
  {
   "cell_type": "markdown",
   "source": [
    "## Establishing baseline\n",
    "First we need to get baseline for the prediction accuracy. First is to randomly pick a winner from two team or\n",
    "next is to predict that home team wins every time. We can try both and pick the best one.\n",
    "\n",
    "\n",
    "### Random"
   ],
   "metadata": {
    "collapsed": false,
    "pycharm": {
     "name": "#%% md\n"
    }
   }
  },
  {
   "cell_type": "code",
   "source": [
    "from random import random\n",
    "\n",
    "test_out_random = list()\n",
    "\n",
    "for n,i in test_set.iterrows():\n",
    "    if random() < 0.5:\n",
    "        test_out_random.append(0)\n",
    "    else:\n",
    "        test_out_random.append(1)\n",
    "\n",
    "random_eval = 0;\n",
    "for i in range(0, len(test_out_random)):\n",
    "    if test_out_random[i] == test_set.iloc[i][\"HOME_TEAM_WINS\"]:\n",
    "        random_eval += 1\n",
    "\n",
    "print(\"Accuracy of random winner: \" + str(random_eval / len(test_out_random)))"
   ],
   "metadata": {
    "collapsed": false,
    "pycharm": {
     "name": "#%%\n"
    }
   },
   "execution_count": 2,
   "outputs": [
    {
     "name": "stdout",
     "output_type": "stream",
     "text": [
      "Accuracy of random winner: 0.5029027576197388\n"
     ]
    }
   ]
  },
  {
   "cell_type": "markdown",
   "source": [
    "### Home team always wins"
   ],
   "metadata": {
    "collapsed": false,
    "pycharm": {
     "name": "#%% md\n"
    }
   }
  },
  {
   "cell_type": "code",
   "execution_count": 3,
   "outputs": [
    {
     "name": "stdout",
     "output_type": "stream",
     "text": [
      "Accuracy of home team always wins: 0.5878084179970973\n"
     ]
    }
   ],
   "source": [
    "home_team_eval = 0\n",
    "for i in range(0, len(test_set.index)):\n",
    "    if test_set.iloc[i][\"HOME_TEAM_WINS\"] == 1:\n",
    "        home_team_eval += 1\n",
    "\n",
    "print(\"Accuracy of home team always wins: \" + str(home_team_eval / len(test_set.index)))"
   ],
   "metadata": {
    "collapsed": false,
    "pycharm": {
     "name": "#%%\n"
    }
   }
  },
  {
   "cell_type": "markdown",
   "source": [
    "Our baseline for our model's accuracy will be the probability that home team always wins (almost 60%).\n",
    "\n",
    "\n",
    "\n",
    "## ELO Rating\n",
    "\n",
    "Until now, we were only looking at win/lose ratio. ELO rating is improved win/lose stat, due to the fact, it takes into\n",
    "consideration history of previous matches from teams, but not in simple 0/1. It's a score, where every team starts at\n",
    "1500 points, after that every team receives or loses points for win or loss. Increase or deduction in points is dependent\n",
    "on different parameters (location of the match and others). This metric is much better representation of the team's\n",
    "strength, than simple win/lose metric."
   ],
   "metadata": {
    "collapsed": false,
    "pycharm": {
     "name": "#%% md\n"
    }
   }
  },
  {
   "cell_type": "code",
   "execution_count": 4,
   "outputs": [
    {
     "name": "stdout",
     "output_type": "stream",
     "text": [
      "    LEAGUE_ID     TEAM_ID  MIN_YEAR  MAX_YEAR ABBREVIATION       NICKNAME  \\\n",
      "0           0  1610612737      1949      2019          ATL          Hawks   \n",
      "1           0  1610612738      1946      2019          BOS        Celtics   \n",
      "2           0  1610612740      2002      2019          NOP       Pelicans   \n",
      "3           0  1610612741      1966      2019          CHI          Bulls   \n",
      "4           0  1610612742      1980      2019          DAL      Mavericks   \n",
      "5           0  1610612743      1976      2019          DEN        Nuggets   \n",
      "6           0  1610612745      1967      2019          HOU        Rockets   \n",
      "7           0  1610612746      1970      2019          LAC       Clippers   \n",
      "8           0  1610612747      1948      2019          LAL         Lakers   \n",
      "9           0  1610612748      1988      2019          MIA           Heat   \n",
      "10          0  1610612749      1968      2019          MIL          Bucks   \n",
      "11          0  1610612750      1989      2019          MIN   Timberwolves   \n",
      "12          0  1610612751      1976      2019          BKN           Nets   \n",
      "13          0  1610612752      1946      2019          NYK         Knicks   \n",
      "14          0  1610612753      1989      2019          ORL          Magic   \n",
      "15          0  1610612754      1976      2019          IND         Pacers   \n",
      "16          0  1610612755      1949      2019          PHI          76ers   \n",
      "17          0  1610612756      1968      2019          PHX           Suns   \n",
      "18          0  1610612757      1970      2019          POR  Trail Blazers   \n",
      "19          0  1610612758      1948      2019          SAC          Kings   \n",
      "20          0  1610612759      1976      2019          SAS          Spurs   \n",
      "21          0  1610612760      1967      2019          OKC        Thunder   \n",
      "22          0  1610612761      1995      2019          TOR        Raptors   \n",
      "23          0  1610612762      1974      2019          UTA           Jazz   \n",
      "24          0  1610612763      1995      2019          MEM      Grizzlies   \n",
      "25          0  1610612764      1961      2019          WAS        Wizards   \n",
      "26          0  1610612765      1948      2019          DET        Pistons   \n",
      "27          0  1610612766      1988      2019          CHA        Hornets   \n",
      "28          0  1610612739      1970      2019          CLE      Cavaliers   \n",
      "29          0  1610612744      1946      2019          GSW       Warriors   \n",
      "\n",
      "    YEARFOUNDED           CITY                       ARENA  ARENACAPACITY  \\\n",
      "0          1949        Atlanta            State Farm Arena        18729.0   \n",
      "1          1946         Boston                   TD Garden        18624.0   \n",
      "2          2002    New Orleans        Smoothie King Center            NaN   \n",
      "3          1966        Chicago               United Center        21711.0   \n",
      "4          1980         Dallas    American Airlines Center        19200.0   \n",
      "5          1976         Denver                Pepsi Center        19099.0   \n",
      "6          1967        Houston               Toyota Center        18104.0   \n",
      "7          1970    Los Angeles              Staples Center        19060.0   \n",
      "8          1948    Los Angeles              Staples Center        19060.0   \n",
      "9          1988          Miami      AmericanAirlines Arena        19600.0   \n",
      "10         1968      Milwaukee                Fiserv Forum        17500.0   \n",
      "11         1989      Minnesota               Target Center        19356.0   \n",
      "12         1976       Brooklyn             Barclays Center            NaN   \n",
      "13         1946       New York       Madison Square Garden        19763.0   \n",
      "14         1989        Orlando                Amway Center            0.0   \n",
      "15         1976        Indiana     Bankers Life Fieldhouse        18345.0   \n",
      "16         1949   Philadelphia          Wells Fargo Center            NaN   \n",
      "17         1968        Phoenix  Talking Stick Resort Arena            NaN   \n",
      "18         1970       Portland                 Moda Center        19980.0   \n",
      "19         1948     Sacramento             Golden 1 Center        17500.0   \n",
      "20         1976    San Antonio                 AT&T Center        18694.0   \n",
      "21         1967  Oklahoma City     Chesapeake Energy Arena        19163.0   \n",
      "22         1995        Toronto            Scotiabank Arena        19800.0   \n",
      "23         1974           Utah     Vivint Smart Home Arena        20148.0   \n",
      "24         1995        Memphis                  FedExForum        18119.0   \n",
      "25         1961     Washington           Capital One Arena        20647.0   \n",
      "26         1948        Detroit        Little Caesars Arena        21000.0   \n",
      "27         1988      Charlotte             Spectrum Center        19026.0   \n",
      "28         1970      Cleveland         Quicken Loans Arena        20562.0   \n",
      "29         1946   Golden State                Chase Center        19596.0   \n",
      "\n",
      "                                  OWNER   GENERALMANAGER         HEADCOACH  \\\n",
      "0                          Tony Ressler   Travis Schlenk      Lloyd Pierce   \n",
      "1                         Wyc Grousbeck      Danny Ainge      Brad Stevens   \n",
      "2                            Tom Benson   Trajan Langdon      Alvin Gentry   \n",
      "3                       Jerry Reinsdorf       Gar Forman        Jim Boylen   \n",
      "4                            Mark Cuban    Donnie Nelson     Rick Carlisle   \n",
      "5                          Stan Kroenke     Tim Connelly    Michael Malone   \n",
      "6                       Tilman Fertitta      Daryl Morey     Mike D'Antoni   \n",
      "7                         Steve Ballmer   Michael Winger        Doc Rivers   \n",
      "8               Jerry Buss Family Trust      Rob Pelinka       Frank Vogel   \n",
      "9                          Micky Arison        Pat Riley    Erik Spoelstra   \n",
      "10            Wesley Edens & Marc Lasry        Jon Horst  Mike Budenholzer   \n",
      "11                          Glen Taylor     Scott Layden     Ryan Saunders   \n",
      "12                             Joe Tsai       Sean Marks    Kenny Atkinson   \n",
      "13            Cablevision (James Dolan)      Steve Mills     David Fizdale   \n",
      "14                           Rick DeVos     John Hammond    Steve Clifford   \n",
      "15                           Herb Simon  Kevin Pritchard     Nate McMillan   \n",
      "16                        Joshua Harris      Elton Brand       Brett Brown   \n",
      "17                        Robert Sarver      James Jones    Monty Williams   \n",
      "18                           Paul Allen      Neil Olshey      Terry Stotts   \n",
      "19                       Vivek Ranadive      Vlade Divac       Luke Walton   \n",
      "20                           Peter Holt     Brian Wright    Gregg Popovich   \n",
      "21                         Clay Bennett       Sam Presti     Billy Donovan   \n",
      "22  Maple Leaf Sports and Entertainment      Masai Ujiri        Nick Nurse   \n",
      "23                          Greg Miller   Dennis Lindsey       Quin Snyder   \n",
      "24                          Robert Pera     Zach Kleiman    Taylor Jenkins   \n",
      "25                          Ted Leonsis   Tommy Sheppard      Scott Brooks   \n",
      "26                            Tom Gores     Ed Stefanski       Dwane Casey   \n",
      "27                       Michael Jordan    Mitch Kupchak     James Borrego   \n",
      "28                          Dan Gilbert      Koby Altman      John Beilein   \n",
      "29                            Joe Lacob        Bob Myers        Steve Kerr   \n",
      "\n",
      "                   DLEAGUEAFFILIATION  ELO_RATING  \n",
      "0                       Erie Bayhawks        1313  \n",
      "1                     Maine Red Claws        1554  \n",
      "2                        No Affiliate        1556  \n",
      "3                    Windy City Bulls        1279  \n",
      "4                       Texas Legends        1347  \n",
      "5                        No Affiliate        1532  \n",
      "6            Rio Grande Valley Vipers        1691  \n",
      "7   Agua Caliente Clippers of Ontario        1477  \n",
      "8                    South Bay Lakers        1437  \n",
      "9                Sioux Falls Skyforce        1480  \n",
      "10                     Wisconsin Herd        1466  \n",
      "11                        Iowa Wolves        1522  \n",
      "12                   Long Island Nets        1348  \n",
      "13                 Westchester Knicks        1339  \n",
      "14                     Lakeland Magic        1301  \n",
      "15                Fort Wayne Mad Ants        1547  \n",
      "16                Delaware Blue Coats        1605  \n",
      "17              Northern Arizona Suns        1228  \n",
      "18                       No Affiliate        1551  \n",
      "19                     Stockton Kings        1295  \n",
      "20                       Austin Spurs        1540  \n",
      "21                 Oklahoma City Blue        1574  \n",
      "22                        Raptors 905        1599  \n",
      "23               Salt Lake City Stars        1636  \n",
      "24                     Memphis Hustle        1277  \n",
      "25                 Capital City Go-Go        1478  \n",
      "26                 Grand Rapids Drive        1440  \n",
      "27                   Greensboro Swarm        1459  \n",
      "28                      Canton Charge        1534  \n",
      "29                Santa Cruz Warriors        1720  \n"
     ]
    }
   ],
   "source": [
    "train_set.sort_values(\"GAME_DATE_EST\", inplace=True, ascending=True)\n",
    "test_set.sort_values(\"GAME_DATE_EST\", inplace=True, ascending=True)\n",
    "\n",
    "score_init = [1500 for i in range(0, len(teams_data.index))]\n",
    "teams_data[\"ELO_RATING\"] = score_init\n",
    "\n",
    "for i in range(0, len(train_set.index)):\n",
    "\n",
    "    if i > 0 and train_set.iloc[i][\"SEASON\"] != train_set.iloc[i - 1][\"SEASON\"]:\n",
    "        for j in range(0, len(teams_data.index)):\n",
    "            teams_data.at[j, \"ELO_RATING\"] = teams_data.at[j, \"ELO_RATING\"] * 0.75 + (0.25*1505)\n",
    "\n",
    "    home_id = train_set.iloc[i][\"TEAM_ID_home\"]\n",
    "    away_id = train_set.iloc[i][\"TEAM_ID_away\"]\n",
    "    win_lose = train_set.iloc[i][\"HOME_TEAM_WINS\"]\n",
    "    home_pts = train_set.iloc[i][\"PTS_home\"]\n",
    "    away_pts = train_set.iloc[i][\"PTS_away\"]\n",
    "    home_team_index = teams_data.index[teams_data[\"TEAM_ID\"] == home_id].tolist()[0]\n",
    "    away_team_index = teams_data.index[teams_data[\"TEAM_ID\"] == away_id].tolist()[0]\n",
    "    home_elo = teams_data.iloc[home_team_index][\"ELO_RATING\"]\n",
    "    away_elo = teams_data.iloc[away_team_index][\"ELO_RATING\"]\n",
    "    teams_data.at[home_team_index, \"ELO_RATING\"] = calculate_elo(home_elo, away_elo, win_lose, abs(home_pts-away_pts), 0)\n",
    "    teams_data.at[away_team_index, \"ELO_RATING\"] = calculate_elo(away_elo, home_elo, 1-win_lose, abs(home_pts-away_pts), 1)\n",
    "\n",
    "print(teams_data)"
   ],
   "metadata": {
    "collapsed": false,
    "pycharm": {
     "name": "#%%\n"
    }
   }
  }
 ],
 "metadata": {
  "kernelspec": {
   "name": "python3",
   "language": "python",
   "display_name": "Python 3 (ipykernel)"
  },
  "language_info": {
   "codemirror_mode": {
    "name": "ipython",
    "version": 2
   },
   "file_extension": ".py",
   "mimetype": "text/x-python",
   "name": "python",
   "nbconvert_exporter": "python",
   "pygments_lexer": "ipython2",
   "version": "2.7.6"
  }
 },
 "nbformat": 4,
 "nbformat_minor": 0
}